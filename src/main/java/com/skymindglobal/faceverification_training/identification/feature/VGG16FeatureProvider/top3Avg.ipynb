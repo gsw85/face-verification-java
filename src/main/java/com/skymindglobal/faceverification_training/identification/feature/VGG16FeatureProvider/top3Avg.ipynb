{
 "cells": [
  {
   "cell_type": "code",
   "execution_count": 1,
   "metadata": {},
   "outputs": [],
   "source": [
    "import pandas as pd\n",
    "import seaborn as sns\n",
    "import matplotlib.pyplot as plt\n",
    "import numpy as np"
   ]
  },
  {
   "cell_type": "code",
   "execution_count": 2,
   "metadata": {},
   "outputs": [],
   "source": [
    "dataset = pd.read_csv('test.csv')"
   ]
  },
  {
   "cell_type": "code",
   "execution_count": 3,
   "metadata": {},
   "outputs": [],
   "source": [
    "dataset = dataset.loc[dataset['same_source_target'] != 1]"
   ]
  },
  {
   "cell_type": "code",
   "execution_count": 23,
   "metadata": {},
   "outputs": [],
   "source": [
    "n = 3\n",
    "\n",
    "# top 3 mean cs\n",
    "ds = dataset.groupby(\n",
    "    ['source_uri', 'source_id', 'target_id'], sort=False\n",
    ").filter(\n",
    "    lambda x: len(x) >= n\n",
    "    # keep predictions >= 3\n",
    ").sort_values(\n",
    "    ['source_uri', 'source_id', 'target_id', 'cosine_sim'], ascending=False\n",
    ").groupby(\n",
    "    ['source_uri', 'source_id', 'target_id'], sort=False\n",
    ").head(n)[\n",
    "    ['source_uri', 'source_id', 'target_id', 'cosine_sim']\n",
    "    # retain possible predictions and its top 3 cos_sim\n",
    "].groupby(\n",
    "    ['source_uri', 'source_id', 'target_id'], sort=False, as_index=False\n",
    ").agg(\n",
    "    {\"cosine_sim\": np.mean}\n",
    "    # average up possible predictions top 3 cos_sim\n",
    ").sort_values(\n",
    "    ['source_uri', 'cosine_sim'], ascending=False\n",
    ").groupby(\n",
    "    ['source_uri', 'source_id'], sort=False\n",
    ").head(1)[\n",
    "    ['source_uri', 'source_id', 'target_id', 'cosine_sim']\n",
    "    # take the highest avg top 3 as final prediction\n",
    "]\n",
    "\n",
    "# label\n",
    "pos_label = (ds['source_id'] == ds['target_id'])\n",
    "neg_label = (ds['source_id'] != ds['target_id'])\n",
    "ds.loc[pos_label, 'label'] = 1\n",
    "ds.loc[neg_label, 'label'] = 0"
   ]
  },
  {
   "cell_type": "code",
   "execution_count": 24,
   "metadata": {},
   "outputs": [
    {
     "name": "stderr",
     "output_type": "stream",
     "text": [
      "D:\\ProgramData\\Anaconda3\\lib\\site-packages\\scipy\\stats\\stats.py:1713: FutureWarning: Using a non-tuple sequence for multidimensional indexing is deprecated; use `arr[tuple(seq)]` instead of `arr[seq]`. In the future this will be interpreted as an array index, `arr[np.array(seq)]`, which will result either in an error or a different result.\n",
      "  return np.add.reduce(sorted[indexer] * weights, axis=axis) / sumval\n"
     ]
    },
    {
     "data": {
      "text/plain": [
       "Text(0, 0.5, 'Density')"
      ]
     },
     "execution_count": 24,
     "metadata": {},
     "output_type": "execute_result"
    },
    {
     "data": {
      "image/png": "[encoded data removed]",
      "text/plain": [
       "<Figure size 432x288 with 1 Axes>"
      ]
     },
     "metadata": {
      "needs_background": "light"
     },
     "output_type": "display_data"
    }
   ],
   "source": [
    "label = [0.0, 1.0]\n",
    "\n",
    "for i in label:\n",
    "    subset = ds[ds['label'] == i]\n",
    "    sns.distplot(\n",
    "        subset['cosine_sim'], \n",
    "        hist = True, \n",
    "        norm_hist=True,\n",
    "        kde = True, \n",
    "        label = i\n",
    "    )\n",
    "    \n",
    "# Plot formatting\n",
    "plt.legend(prop={'size': 16}, title = 'label')\n",
    "plt.title('Density Plot')\n",
    "\n",
    "plt.xlabel('Cosine Similarity')\n",
    "plt.ylabel('Density')"
   ]
  },
  {
   "cell_type": "code",
   "execution_count": 25,
   "metadata": {},
   "outputs": [
    {
     "data": {
      "text/plain": [
       "0.9    0.895388\n",
       "Name: cosine_sim, dtype: float64"
      ]
     },
     "execution_count": 25,
     "metadata": {},
     "output_type": "execute_result"
    }
   ],
   "source": [
    "ds['cosine_sim'].quantile([0.9])"
   ]
  },
  {
   "cell_type": "code",
   "execution_count": 26,
   "metadata": {},
   "outputs": [
    {
     "data": {
      "text/html": [
       "<div>\n",
       "<style scoped>\n",
       "    .dataframe tbody tr th:only-of-type {\n",
       "        vertical-align: middle;\n",
       "    }\n",
       "\n",
       "    .dataframe tbody tr th {\n",
       "        vertical-align: top;\n",
       "    }\n",
       "\n",
       "    .dataframe thead th {\n",
       "        text-align: right;\n",
       "    }\n",
       "</style>\n",
       "<table border=\"1\" class=\"dataframe\">\n",
       "  <thead>\n",
       "    <tr style=\"text-align: right;\">\n",
       "      <th></th>\n",
       "      <th></th>\n",
       "      <th>source_uri</th>\n",
       "    </tr>\n",
       "    <tr>\n",
       "      <th>label</th>\n",
       "      <th>predicted</th>\n",
       "      <th></th>\n",
       "    </tr>\n",
       "  </thead>\n",
       "  <tbody>\n",
       "    <tr>\n",
       "      <th rowspan=\"2\" valign=\"top\">0.0</th>\n",
       "      <th>0.0</th>\n",
       "      <td>1153</td>\n",
       "    </tr>\n",
       "    <tr>\n",
       "      <th>1.0</th>\n",
       "      <td>43</td>\n",
       "    </tr>\n",
       "    <tr>\n",
       "      <th rowspan=\"2\" valign=\"top\">1.0</th>\n",
       "      <th>0.0</th>\n",
       "      <td>2790</td>\n",
       "    </tr>\n",
       "    <tr>\n",
       "      <th>1.0</th>\n",
       "      <td>396</td>\n",
       "    </tr>\n",
       "  </tbody>\n",
       "</table>\n",
       "</div>"
      ],
      "text/plain": [
       "                 source_uri\n",
       "label predicted            \n",
       "0.0   0.0              1153\n",
       "      1.0                43\n",
       "1.0   0.0              2790\n",
       "      1.0               396"
      ]
     },
     "execution_count": 26,
     "metadata": {},
     "output_type": "execute_result"
    }
   ],
   "source": [
    "# predicted: cosine_sim threshold\n",
    "threshold = 0.895388\n",
    "pos_predicted = (ds['cosine_sim'] >= threshold)\n",
    "neg_predicted = (ds['cosine_sim'] < threshold)\n",
    "ds.loc[pos_predicted, 'predicted'] = 1\n",
    "ds.loc[neg_predicted,'predicted'] = 0\n",
    "\n",
    "ds[['label', 'predicted', 'source_uri']].groupby(['label', 'predicted']).count()"
   ]
  },
  {
   "cell_type": "code",
   "execution_count": 27,
   "metadata": {},
   "outputs": [
    {
     "data": {
      "text/html": [
       "<div>\n",
       "<style scoped>\n",
       "    .dataframe tbody tr th:only-of-type {\n",
       "        vertical-align: middle;\n",
       "    }\n",
       "\n",
       "    .dataframe tbody tr th {\n",
       "        vertical-align: top;\n",
       "    }\n",
       "\n",
       "    .dataframe thead th {\n",
       "        text-align: right;\n",
       "    }\n",
       "</style>\n",
       "<table border=\"1\" class=\"dataframe\">\n",
       "  <thead>\n",
       "    <tr style=\"text-align: right;\">\n",
       "      <th></th>\n",
       "      <th></th>\n",
       "      <th>source_uri</th>\n",
       "    </tr>\n",
       "    <tr>\n",
       "      <th>label</th>\n",
       "      <th>predicted</th>\n",
       "      <th></th>\n",
       "    </tr>\n",
       "  </thead>\n",
       "  <tbody>\n",
       "    <tr>\n",
       "      <th rowspan=\"2\" valign=\"top\">0.0</th>\n",
       "      <th>0.0</th>\n",
       "      <td>658</td>\n",
       "    </tr>\n",
       "    <tr>\n",
       "      <th>1.0</th>\n",
       "      <td>538</td>\n",
       "    </tr>\n",
       "    <tr>\n",
       "      <th rowspan=\"2\" valign=\"top\">1.0</th>\n",
       "      <th>0.0</th>\n",
       "      <td>841</td>\n",
       "    </tr>\n",
       "    <tr>\n",
       "      <th>1.0</th>\n",
       "      <td>2345</td>\n",
       "    </tr>\n",
       "  </tbody>\n",
       "</table>\n",
       "</div>"
      ],
      "text/plain": [
       "                 source_uri\n",
       "label predicted            \n",
       "0.0   0.0               658\n",
       "      1.0               538\n",
       "1.0   0.0               841\n",
       "      1.0              2345"
      ]
     },
     "execution_count": 27,
     "metadata": {},
     "output_type": "execute_result"
    }
   ],
   "source": [
    "# predicted: cosine_sim threshold\n",
    "threshold = 0.6\n",
    "pos_predicted = (ds['cosine_sim'] >= threshold)\n",
    "neg_predicted = (ds['cosine_sim'] < threshold)\n",
    "ds.loc[pos_predicted, 'predicted'] = 1\n",
    "ds.loc[neg_predicted,'predicted'] = 0\n",
    "\n",
    "ds[['label', 'predicted', 'source_uri']].groupby(['label', 'predicted']).count()"
   ]
  },
  {
   "cell_type": "code",
   "execution_count": null,
   "metadata": {},
   "outputs": [],
   "source": []
  }
 ],
 "metadata": {
  "celltoolbar": "Edit Metadata",
  "kernelspec": {
   "display_name": "Python 3",
   "language": "python",
   "name": "python3"
  },
  "language_info": {
   "codemirror_mode": {
    "name": "ipython",
    "version": 3
   },
   "file_extension": ".py",
   "mimetype": "text/x-python",
   "name": "python",
   "nbconvert_exporter": "python",
   "pygments_lexer": "ipython3",
   "version": "3.7.1"
  }
 },
 "nbformat": 4,
 "nbformat_minor": 2
}
